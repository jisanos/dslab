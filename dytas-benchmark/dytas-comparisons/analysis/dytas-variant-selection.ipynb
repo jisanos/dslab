{
 "cells": [
  {
   "cell_type": "code",
   "execution_count": 1,
   "id": "fb5db5ea-fa85-42b7-8c33-6071e9c324a7",
   "metadata": {},
   "outputs": [
    {
     "ename": "ModuleNotFoundError",
     "evalue": "No module named 'skcriteria'",
     "output_type": "error",
     "traceback": [
      "\u001b[0;31m---------------------------------------------------------------------------\u001b[0m",
      "\u001b[0;31mModuleNotFoundError\u001b[0m                       Traceback (most recent call last)",
      "Cell \u001b[0;32mIn[1], line 4\u001b[0m\n\u001b[1;32m      1\u001b[0m \u001b[38;5;28;01mimport\u001b[39;00m \u001b[38;5;21;01mpandas\u001b[39;00m \u001b[38;5;28;01mas\u001b[39;00m \u001b[38;5;21;01mpd\u001b[39;00m\n\u001b[1;32m      3\u001b[0m \u001b[38;5;28;01mimport\u001b[39;00m \u001b[38;5;21;01mnumpy\u001b[39;00m \u001b[38;5;28;01mas\u001b[39;00m \u001b[38;5;21;01mnp\u001b[39;00m\n\u001b[0;32m----> 4\u001b[0m \u001b[38;5;28;01mimport\u001b[39;00m \u001b[38;5;21;01mskcriteria\u001b[39;00m \u001b[38;5;28;01mas\u001b[39;00m \u001b[38;5;21;01mskc\u001b[39;00m\n\u001b[1;32m      5\u001b[0m \u001b[38;5;28;01mimport\u001b[39;00m \u001b[38;5;21;01mskcriteria\u001b[39;00m\u001b[38;5;21;01m.\u001b[39;00m\u001b[38;5;21;01mmadm\u001b[39;00m \u001b[38;5;28;01mas\u001b[39;00m \u001b[38;5;21;01mmadm\u001b[39;00m\n\u001b[1;32m      6\u001b[0m \u001b[38;5;66;03m# See documentation at: https://scikit-criteria.readthedocs.io/_/downloads/en/0.5/pdf/\u001b[39;00m\n\u001b[1;32m      7\u001b[0m \u001b[38;5;66;03m# https://scikit-criteria.quatrope.org/en/latest/tutorial/quickstart.html\u001b[39;00m\n",
      "\u001b[0;31mModuleNotFoundError\u001b[0m: No module named 'skcriteria'"
     ]
    }
   ],
   "source": [
    "import pandas as pd\n",
    "\n",
    "import numpy as np\n",
    "import skcriteria as skc\n",
    "import skcriteria.madm as madm\n",
    "# See documentation at: https://scikit-criteria.readthedocs.io/_/downloads/en/0.5/pdf/\n",
    "# https://scikit-criteria.quatrope.org/en/latest/tutorial/quickstart.html\n",
    "from skcriteria.madm import similarity # here lives TOPSIS\n",
    "from skcriteria.pipeline import mkpipe # this function is for create pipelines\n",
    "from skcriteria.preprocessing import invert_objectives, scalers\n",
    "from skcriteria.agg import simple"
   ]
  },
  {
   "cell_type": "code",
   "execution_count": null,
   "id": "24fe049a-bf64-4d86-9be6-9671162b2d8a",
   "metadata": {},
   "outputs": [],
   "source": [
    "df = pd.read_pickle(\"./data/pre-processed-metrics-dataframe.pkl\")"
   ]
  },
  {
   "cell_type": "markdown",
   "id": "8e14ac8e-f768-47e8-9aaa-b091b490d732",
   "metadata": {},
   "source": [
    "# Selecting best DYTAS variant"
   ]
  },
  {
   "cell_type": "code",
   "execution_count": null,
   "id": "0feabcc7-b616-4dd7-86a6-70af78bc14c7",
   "metadata": {},
   "outputs": [],
   "source": [
    "dytas_variants = [variant for variant in df.scheduler.unique() if \"DYTAS\" in variant]"
   ]
  },
  {
   "cell_type": "code",
   "execution_count": null,
   "id": "2c1b0d01-cdc2-483d-b637-446626a04f64",
   "metadata": {},
   "outputs": [],
   "source": [
    "df_dytas = df[df.scheduler.isin(dytas_variants)].copy().reset_index(drop=True)"
   ]
  },
  {
   "cell_type": "code",
   "execution_count": null,
   "id": "912cf33a-3bc7-4f0c-ab4c-c97dc740507e",
   "metadata": {},
   "outputs": [],
   "source": [
    "df_dytas.columns"
   ]
  },
  {
   "cell_type": "markdown",
   "id": "15ad1d83-339f-466c-8797-e9ad9524c87a",
   "metadata": {},
   "source": [
    "Using a Multi-Criteria Decision Making Method (MCDM) called TOPSIS (Technique for Order of Preference by Similarity to Ideal Solution)"
   ]
  },
  {
   "cell_type": "markdown",
   "id": "f87c5ae2-d0fe-461d-87d9-85e1f5a69395",
   "metadata": {},
   "source": [
    "Aggregate the performance metrics for each algorithm"
   ]
  },
  {
   "cell_type": "code",
   "execution_count": null,
   "id": "5b871938-a6cc-45ed-93f9-2742efebc4c7",
   "metadata": {},
   "outputs": [],
   "source": [
    "primary_metrics = [\n",
    "    \"SLR\",\n",
    "    \"speedup\",\n",
    "    \"exec_time\",\n",
    "    \"efficiency_processors\",\n",
    "    \"efficiency_cores\"\n",
    "]"
   ]
  },
  {
   "cell_type": "code",
   "execution_count": null,
   "id": "828b1203-ef1b-40bb-94df-cd536c863416",
   "metadata": {},
   "outputs": [],
   "source": [
    "df_dytas[primary_metrics + [\"scheduler\"]].groupby(\"scheduler\").std()"
   ]
  },
  {
   "cell_type": "markdown",
   "id": "c5fa83da-7b97-4b23-8d09-645c624a57eb",
   "metadata": {},
   "source": [
    "Since the standard deviation for the results are quite high (given that the data is very left skewed) it would be a more fair comparison to use the median rather than mean value."
   ]
  },
  {
   "cell_type": "code",
   "execution_count": null,
   "id": "b916f19e-7fc4-4ffb-9e2e-a74549f4f18c",
   "metadata": {
    "scrolled": true
   },
   "outputs": [],
   "source": [
    "df_dytas[primary_metrics + [\"scheduler\"]].groupby(\"scheduler\").mean()"
   ]
  },
  {
   "cell_type": "code",
   "execution_count": null,
   "id": "3d8b91b9-2219-4d68-8335-ad75c4b9cd10",
   "metadata": {},
   "outputs": [],
   "source": [
    "df_dytas[primary_metrics + [\"scheduler\"]].groupby(\"scheduler\").median()"
   ]
  },
  {
   "cell_type": "code",
   "execution_count": null,
   "id": "b4e8a9e3-3917-44e8-8946-e369eab5b061",
   "metadata": {},
   "outputs": [],
   "source": [
    "df_dytas_medians =  df_dytas[primary_metrics + [\"scheduler\"]].groupby(\"scheduler\").median()"
   ]
  },
  {
   "cell_type": "code",
   "execution_count": null,
   "id": "1752e2f2-0518-4a31-8ab2-722455afd326",
   "metadata": {},
   "outputs": [],
   "source": [
    "\n",
    "# Criteria for each metric in order\n",
    "objectives = [\n",
    "    min,\n",
    "    max,\n",
    "    min,\n",
    "    max,\n",
    "    max\n",
    "]\n",
    "# Weight for each metric in order\n",
    "weights = np.array([.3, .2, .2, .15, .15])"
   ]
  },
  {
   "cell_type": "code",
   "execution_count": null,
   "id": "097e6d07-f0ec-4eee-a195-37c5859d3b30",
   "metadata": {},
   "outputs": [],
   "source": [
    "matrix = df_dytas_medians.values"
   ]
  },
  {
   "cell_type": "code",
   "execution_count": null,
   "id": "093e2ee5-df80-414c-bcfe-b66e910e05a1",
   "metadata": {},
   "outputs": [],
   "source": [
    "# matrix = df_dytas[primary_metrics].values\n",
    "decision_matrix = skc.mkdm(\n",
    "    matrix,\n",
    "    objectives = objectives,\n",
    "    weights=weights,\n",
    "    criteria=df_dytas_medians.columns.tolist(),\n",
    "    alternatives=df_dytas_medians.index\n",
    ")"
   ]
  },
  {
   "cell_type": "code",
   "execution_count": null,
   "id": "419b01e7-3337-4df4-b078-50a8b7cdd9b6",
   "metadata": {
    "scrolled": true
   },
   "outputs": [],
   "source": [
    "decision_matrix"
   ]
  },
  {
   "cell_type": "code",
   "execution_count": null,
   "id": "b1c61184-dae6-4014-a746-ecb640e3ed80",
   "metadata": {},
   "outputs": [],
   "source": [
    "decision_matrix.weights"
   ]
  },
  {
   "cell_type": "code",
   "execution_count": null,
   "id": "3d642596-854b-4f60-9f8f-e6f6c4e47edf",
   "metadata": {},
   "outputs": [],
   "source": [
    "decision_matrix.plot()"
   ]
  },
  {
   "cell_type": "code",
   "execution_count": null,
   "id": "14819a41-47e7-4f5c-9db2-8bb73ceacb58",
   "metadata": {},
   "outputs": [],
   "source": [
    "decision_matrix.plot.wheatmap()"
   ]
  },
  {
   "cell_type": "code",
   "execution_count": null,
   "id": "3997cc3f-0078-4595-8891-f459a628cf66",
   "metadata": {},
   "outputs": [],
   "source": [
    "decision_matrix.plot(\"kde\")"
   ]
  },
  {
   "cell_type": "code",
   "execution_count": null,
   "id": "ca8e478f-fbd7-4f1f-b4cd-e1019d251fcf",
   "metadata": {},
   "outputs": [],
   "source": [
    "# Inverting min criteria to max criteria for\n",
    "# better calculation (according to the documentation)\n",
    "inverter = invert_objectives.InvertMinimize()\n",
    "dmt = inverter.transform(decision_matrix)\n",
    "dmt"
   ]
  },
  {
   "cell_type": "code",
   "execution_count": null,
   "id": "8db4fabb-69a5-4b09-bf86-e72ac2bf8e7c",
   "metadata": {},
   "outputs": [],
   "source": [
    "# Scaling / normalizing these values now.\n",
    "# By specifying both targets, the matrix and weights\n",
    "# are scaled.\n",
    "scaler = scalers.SumScaler(target=\"both\")\n",
    "dmt = scaler.transform(dmt)\n",
    "dmt"
   ]
  },
  {
   "cell_type": "code",
   "execution_count": null,
   "id": "fa0e00e5-c1c5-4fb9-821d-f49615c166c3",
   "metadata": {},
   "outputs": [],
   "source": [
    "dmt"
   ]
  },
  {
   "cell_type": "code",
   "execution_count": null,
   "id": "70e12971-28e8-4a20-a74a-35f074f3cfaa",
   "metadata": {},
   "outputs": [],
   "source": [
    "# we are going to user matplotlib capabilities of creat multiple figures\n",
    "import matplotlib.pyplot as plt\n",
    "\n",
    "# we create 2 axis with the same y axis\n",
    "fig, axs = plt.subplots(1, 2, figsize=(12, 5), sharey=True)\n",
    "\n",
    "# in the first axis we plot the criteria KDE\n",
    "dmt.plot.kde(ax=axs[0])\n",
    "axs[0].set_title(\"Criteria\")\n",
    "\n",
    "\n",
    "# in the second axis we plot the weights as bars\n",
    "dmt.plot.wbar(ax=axs[1])\n",
    "axs[1].set_title(\"Weights\")\n",
    "\n",
    "# adjust the layout of the figute based on the content\n",
    "fig.tight_layout()"
   ]
  },
  {
   "cell_type": "code",
   "execution_count": null,
   "id": "0b0093b2-cde1-46ac-b309-3d9ed94b1111",
   "metadata": {},
   "outputs": [],
   "source": [
    "dec = simple.WeightedSumModel()\n",
    "rank = dec.evaluate(dmt)  # we use the tansformed version of the data\n",
    "rank"
   ]
  },
  {
   "cell_type": "code",
   "execution_count": null,
   "id": "b0e1c3dd-9904-4be5-a27f-35b01011ca89",
   "metadata": {},
   "outputs": [],
   "source": [
    "rank.to_series().sort_values()"
   ]
  },
  {
   "cell_type": "code",
   "execution_count": null,
   "id": "2b246e65-6922-4c1b-9def-4457a9c54713",
   "metadata": {},
   "outputs": [],
   "source": [
    "rank.e_.score"
   ]
  },
  {
   "cell_type": "code",
   "execution_count": null,
   "id": "26f3ac26-16cb-492d-bbcf-73e521ae419c",
   "metadata": {},
   "outputs": [],
   "source": [
    "score = rank.to_series()\n",
    "score[:] = rank.e_.score\n",
    "score = score.sort_values(ascending=False)"
   ]
  },
  {
   "cell_type": "code",
   "execution_count": null,
   "id": "08131fb8-9193-4455-a141-c28e321c34c2",
   "metadata": {},
   "outputs": [],
   "source": [
    "score"
   ]
  },
  {
   "cell_type": "code",
   "execution_count": null,
   "id": "cc39659a-3429-4da2-8261-0cb3f5a88e3d",
   "metadata": {
    "scrolled": true
   },
   "outputs": [],
   "source": [
    "pd.DataFrame(score)"
   ]
  },
  {
   "cell_type": "code",
   "execution_count": null,
   "id": "a6bbb1c8-1d11-415a-8b3b-b1e295243885",
   "metadata": {},
   "outputs": [],
   "source": [
    "import seaborn as sns\n",
    "\n",
    "sns.barplot(pd.DataFrame(score), y=\"Alternatives\", x=\"Rank\")\n",
    "# plt.xticks(rotation=90)"
   ]
  },
  {
   "cell_type": "code",
   "execution_count": null,
   "id": "2a21c232-2221-43b6-9af0-4a8863b7dfec",
   "metadata": {},
   "outputs": [],
   "source": [
    "# pipe = mkpipe(\n",
    "#     invert_objectives.NegateMinimize(),\n",
    "#     scalers.VectorScaler(target=\"matrix\"),\n",
    "#     scalers.SumScaler(target=\"weights\"),\n",
    "#     similarity.TOPSIS()\n",
    "# )\n",
    "# pipe\n"
   ]
  },
  {
   "cell_type": "code",
   "execution_count": null,
   "id": "159a4c9b-9e99-4a2a-8a76-97eea25c7779",
   "metadata": {},
   "outputs": [],
   "source": [
    "# rank = pipe.evaluate(decision_matrix)\n",
    "# rank"
   ]
  },
  {
   "cell_type": "code",
   "execution_count": null,
   "id": "1ae03488-78c8-44e7-a5e8-155b88a71fb1",
   "metadata": {},
   "outputs": [],
   "source": [
    "# rank.e_.ideal"
   ]
  },
  {
   "cell_type": "code",
   "execution_count": null,
   "id": "03f2a1a3-20a3-4e1c-8c3f-da5481001d0c",
   "metadata": {},
   "outputs": [],
   "source": [
    "# rank.e_.similarity"
   ]
  },
  {
   "cell_type": "markdown",
   "id": "c3942fa0-fadf-406e-a3ed-bceacbb77494",
   "metadata": {},
   "source": [
    "# TO DO: Do the same with all algorithms to see results. Afterwards, verify which of the independent variables impacted the results the most."
   ]
  },
  {
   "cell_type": "code",
   "execution_count": null,
   "id": "d1eda2df-6de9-40f0-9337-db749aa8f58a",
   "metadata": {},
   "outputs": [],
   "source": []
  }
 ],
 "metadata": {
  "kernelspec": {
   "display_name": "Python 3 (ipykernel)",
   "language": "python",
   "name": "python3"
  },
  "language_info": {
   "codemirror_mode": {
    "name": "ipython",
    "version": 3
   },
   "file_extension": ".py",
   "mimetype": "text/x-python",
   "name": "python",
   "nbconvert_exporter": "python",
   "pygments_lexer": "ipython3",
   "version": "3.12.7"
  }
 },
 "nbformat": 4,
 "nbformat_minor": 5
}
